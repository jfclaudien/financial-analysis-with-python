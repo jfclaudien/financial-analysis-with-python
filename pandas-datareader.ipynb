{
 "cells": [
  {
   "cell_type": "code",
   "execution_count": 1,
   "id": "d30adec2",
   "metadata": {},
   "outputs": [],
   "source": [
    "import pandas_datareader as web\n",
    "import matplotlib.pyplot as plt\n",
    "import quandl\n",
    "import datetime\n",
    "%matplotlib inline"
   ]
  },
  {
   "cell_type": "code",
   "execution_count": 2,
   "id": "234af6be",
   "metadata": {},
   "outputs": [],
   "source": [
    "st_date = datetime.datetime(2015, 1, 1)\n",
    "en_date = datetime.datetime(2021, 5, 1)"
   ]
  },
  {
   "cell_type": "code",
   "execution_count": 3,
   "id": "5cbcd5ad",
   "metadata": {},
   "outputs": [],
   "source": [
    "fb = web.DataReader('FB', 'yahoo', st_date, en_date)"
   ]
  },
  {
   "cell_type": "code",
   "execution_count": 4,
   "id": "8ae09376",
   "metadata": {},
   "outputs": [
    {
     "data": {
      "text/html": [
       "<div>\n",
       "<style scoped>\n",
       "    .dataframe tbody tr th:only-of-type {\n",
       "        vertical-align: middle;\n",
       "    }\n",
       "\n",
       "    .dataframe tbody tr th {\n",
       "        vertical-align: top;\n",
       "    }\n",
       "\n",
       "    .dataframe thead th {\n",
       "        text-align: right;\n",
       "    }\n",
       "</style>\n",
       "<table border=\"1\" class=\"dataframe\">\n",
       "  <thead>\n",
       "    <tr style=\"text-align: right;\">\n",
       "      <th></th>\n",
       "      <th>High</th>\n",
       "      <th>Low</th>\n",
       "      <th>Open</th>\n",
       "      <th>Close</th>\n",
       "      <th>Volume</th>\n",
       "      <th>Adj Close</th>\n",
       "    </tr>\n",
       "    <tr>\n",
       "      <th>Date</th>\n",
       "      <th></th>\n",
       "      <th></th>\n",
       "      <th></th>\n",
       "      <th></th>\n",
       "      <th></th>\n",
       "      <th></th>\n",
       "    </tr>\n",
       "  </thead>\n",
       "  <tbody>\n",
       "    <tr>\n",
       "      <th>2021-04-26</th>\n",
       "      <td>305.799988</td>\n",
       "      <td>301.559998</td>\n",
       "      <td>303.339996</td>\n",
       "      <td>303.040009</td>\n",
       "      <td>16172600</td>\n",
       "      <td>303.040009</td>\n",
       "    </tr>\n",
       "    <tr>\n",
       "      <th>2021-04-27</th>\n",
       "      <td>305.339996</td>\n",
       "      <td>301.109985</td>\n",
       "      <td>304.279999</td>\n",
       "      <td>303.570007</td>\n",
       "      <td>15309300</td>\n",
       "      <td>303.570007</td>\n",
       "    </tr>\n",
       "    <tr>\n",
       "      <th>2021-04-28</th>\n",
       "      <td>310.920013</td>\n",
       "      <td>305.369995</td>\n",
       "      <td>307.359985</td>\n",
       "      <td>307.100006</td>\n",
       "      <td>33907200</td>\n",
       "      <td>307.100006</td>\n",
       "    </tr>\n",
       "    <tr>\n",
       "      <th>2021-04-29</th>\n",
       "      <td>331.809998</td>\n",
       "      <td>321.609985</td>\n",
       "      <td>330.119995</td>\n",
       "      <td>329.510010</td>\n",
       "      <td>56526800</td>\n",
       "      <td>329.510010</td>\n",
       "    </tr>\n",
       "    <tr>\n",
       "      <th>2021-04-30</th>\n",
       "      <td>329.820007</td>\n",
       "      <td>324.500000</td>\n",
       "      <td>326.140015</td>\n",
       "      <td>325.079987</td>\n",
       "      <td>26322000</td>\n",
       "      <td>325.079987</td>\n",
       "    </tr>\n",
       "  </tbody>\n",
       "</table>\n",
       "</div>"
      ],
      "text/plain": [
       "                  High         Low        Open       Close    Volume  \\\n",
       "Date                                                                   \n",
       "2021-04-26  305.799988  301.559998  303.339996  303.040009  16172600   \n",
       "2021-04-27  305.339996  301.109985  304.279999  303.570007  15309300   \n",
       "2021-04-28  310.920013  305.369995  307.359985  307.100006  33907200   \n",
       "2021-04-29  331.809998  321.609985  330.119995  329.510010  56526800   \n",
       "2021-04-30  329.820007  324.500000  326.140015  325.079987  26322000   \n",
       "\n",
       "             Adj Close  \n",
       "Date                    \n",
       "2021-04-26  303.040009  \n",
       "2021-04-27  303.570007  \n",
       "2021-04-28  307.100006  \n",
       "2021-04-29  329.510010  \n",
       "2021-04-30  325.079987  "
      ]
     },
     "execution_count": 4,
     "metadata": {},
     "output_type": "execute_result"
    }
   ],
   "source": [
    "fb.tail()"
   ]
  },
  {
   "cell_type": "code",
   "execution_count": 6,
   "id": "01cc86a9",
   "metadata": {},
   "outputs": [],
   "source": [
    "qdl = quandl.get('EIA/PET_RWTC_D')"
   ]
  },
  {
   "cell_type": "code",
   "execution_count": 7,
   "id": "34555f04",
   "metadata": {},
   "outputs": [
    {
     "data": {
      "text/plain": [
       "<AxesSubplot:xlabel='Date'>"
      ]
     },
     "execution_count": 7,
     "metadata": {},
     "output_type": "execute_result"
    },
    {
     "data": {
      "image/png": "[encoded data removed]",
      "text/plain": [
       "<Figure size 432x288 with 1 Axes>"
      ]
     },
     "metadata": {
      "needs_background": "light"
     },
     "output_type": "display_data"
    }
   ],
   "source": [
    "qdl.plot()"
   ]
  }
 ],
 "metadata": {
  "kernelspec": {
   "display_name": "Python 3",
   "language": "python",
   "name": "python3"
  },
  "language_info": {
   "codemirror_mode": {
    "name": "ipython",
    "version": 3
   },
   "file_extension": ".py",
   "mimetype": "text/x-python",
   "name": "python",
   "nbconvert_exporter": "python",
   "pygments_lexer": "ipython3",
   "version": "3.7.10"
  }
 },
 "nbformat": 4,
 "nbformat_minor": 5
}
